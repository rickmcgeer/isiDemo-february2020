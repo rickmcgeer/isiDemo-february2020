{
 "cells": [
  {
   "cell_type": "markdown",
   "metadata": {},
   "source": [
    "This Notebook prepares a sample provided by USC-ISI for graphing.  The data is in the file data_new.csv, which contains records of the form (datatype (bitrate or packetcount), flow, timestamp, value, timeoffset).  Time offset is an integer-valued offset of the timestamp from the lowest timestamp and is somewhat easier to deal with.  This notebook converts this single table into two tables, bitrate and packetcount, with fields (timeoffset, flow1, flow2,...), and writes them to the dashboard."
   ]
  },
  {
   "cell_type": "markdown",
   "metadata": {},
   "source": [
    "Step 1: Import the software we'll need.  Install the Google Visualization library (just a library that turns a table into a data structure Google charts can deal with and JSONifies it), and a lightweight client to send data to the dashboard.  test_client should be in the same directory as the Notebook."
   ]
  },
  {
   "cell_type": "code",
   "execution_count": 137,
   "metadata": {},
   "outputs": [
    {
     "name": "stdout",
     "output_type": "stream",
     "text": [
      "Requirement already up-to-date: gviz_api in /opt/conda/lib/python3.7/site-packages (1.9.0)\n",
      "Requirement already satisfied, skipping upgrade: six in /opt/conda/lib/python3.7/site-packages (from gviz_api) (1.13.0)\n"
     ]
    }
   ],
   "source": [
    "!pip install --upgrade gviz_api\n",
    "import gviz_api\n",
    "import csv\n",
    "import datetime\n",
    "import json\n",
    "import test_client"
   ]
  },
  {
   "cell_type": "markdown",
   "metadata": {},
   "source": [
    "Read the CSV file"
   ]
  },
  {
   "cell_type": "code",
   "execution_count": 138,
   "metadata": {},
   "outputs": [],
   "source": [
    "f = open('data-new.csv', 'r')\n",
    "data_reader = csv.reader(f)\n",
    "rows = [row for row in data_reader]\n",
    "f.close()"
   ]
  },
  {
   "cell_type": "markdown",
   "metadata": {},
   "source": [
    "Get the names of all the flows.  These will be the columns in the tables we'll spit out."
   ]
  },
  {
   "cell_type": "code",
   "execution_count": 139,
   "metadata": {},
   "outputs": [],
   "source": [
    "flows = list(set([row[1] for row in rows[1:]]))"
   ]
  },
  {
   "cell_type": "markdown",
   "metadata": {},
   "source": [
    "The schema for both tables is the same: time as a number in column 0, the values for the flows of that timestamp in the remaining columns"
   ]
  },
  {
   "cell_type": "code",
   "execution_count": 140,
   "metadata": {},
   "outputs": [],
   "source": [
    "schema = [('time', 'number')] + [(flow, 'number') for flow in flows]"
   ]
  },
  {
   "cell_type": "markdown",
   "metadata": {},
   "source": [
    "We will have one table for each datatype in column 0 of the original table"
   ]
  },
  {
   "cell_type": "code",
   "execution_count": 141,
   "metadata": {},
   "outputs": [],
   "source": [
    "tableNames = list(set([row[0] for row in rows[1:]]))"
   ]
  },
  {
   "cell_type": "markdown",
   "metadata": {},
   "source": [
    "Actually compute the tables to be plotted.  First, find the unique times and sort  them in ascending order.  Then get the names of the columns as a list.  Initialize each table to 0 for all flows at each tiume.  Then go through the rows of the input table, and for each row, the output tableName is in column 0, the time is in column 4, and use that to derive the row number in the output table, the flow name is in column 1, and use that to find the column number in the output table, and the value is in column 3.  Collect all of these, and then put the values into the tables. "
   ]
  },
  {
   "cell_type": "code",
   "execution_count": 142,
   "metadata": {},
   "outputs": [],
   "source": [
    "tables = {}\n",
    "times = list(set([int(row[4]) for row in rows[1:]]))\n",
    "times.sort()\n",
    "columnNames = [spec[0] for spec in schema]\n",
    "for name in tableNames:\n",
    "    tables[name] = [[time] + [0 for i in schema[1:]] for time in times]\n",
    "\n",
    "values = [{\"tableName\": row[0], \"rowNum\": times.index(int(row[4])), \"colNum\": columnNames.index(row[1]), \"value\": int(row[3])} for row in rows[1:]]\n",
    "for value in values:\n",
    "    tables[value[\"tableName\"]][value[\"rowNum\"]][value[\"colNum\"]] = value[\"value\"]"
   ]
  },
  {
   "cell_type": "markdown",
   "metadata": {},
   "source": [
    "Create a client and connect to the server.  The default url and path  is used."
   ]
  },
  {
   "cell_type": "code",
   "execution_count": 143,
   "metadata": {},
   "outputs": [],
   "source": [
    "client = test_client.Client()\n",
    "client.connect()"
   ]
  },
  {
   "cell_type": "markdown",
   "metadata": {},
   "source": [
    "Assign a room name to listen on."
   ]
  },
  {
   "cell_type": "code",
   "execution_count": 144,
   "metadata": {},
   "outputs": [],
   "source": [
    "roomName = 'isiRoom'"
   ]
  },
  {
   "cell_type": "markdown",
   "metadata": {},
   "source": [
    "A utility to send a Table as JSON to the room, using the client.  This should migrate into the client."
   ]
  },
  {
   "cell_type": "code",
   "execution_count": 145,
   "metadata": {},
   "outputs": [],
   "source": [
    "def send_data_to_dashboard(table_name, data_table_as_JSON, client, room):\n",
    "    table_record = '{\"name\": \"%s\", \"table\": %s}' % (table_name, data_table_as_JSON)\n",
    "    client.send(table_record, room)"
   ]
  },
  {
   "cell_type": "markdown",
   "metadata": {},
   "source": [
    "Create the Google Tables for each table name, using the schema, then load the data into the table, convert the table into JSON and use the utility just defined to send it to the table."
   ]
  },
  {
   "cell_type": "code",
   "execution_count": 146,
   "metadata": {},
   "outputs": [],
   "source": [
    "for name in tableNames:\n",
    "    google_table = gviz_api.DataTable(schema)\n",
    "    google_table.LoadData(tables[name])\n",
    "    send_data_to_dashboard(name, google_table.ToJSon(), client, roomName)\n",
    "    "
   ]
  }
 ],
 "metadata": {
  "kernelspec": {
   "display_name": "Python 3",
   "language": "python",
   "name": "python3"
  },
  "language_info": {
   "codemirror_mode": {
    "name": "ipython",
    "version": 3
   },
   "file_extension": ".py",
   "mimetype": "text/x-python",
   "name": "python",
   "nbconvert_exporter": "python",
   "pygments_lexer": "ipython3",
   "version": "3.7.3"
  }
 },
 "nbformat": 4,
 "nbformat_minor": 4
}
